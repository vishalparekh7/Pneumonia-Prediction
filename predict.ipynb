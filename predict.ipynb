{
 "cells": [
  {
   "cell_type": "code",
   "execution_count": 1,
   "id": "hawaiian-xerox",
   "metadata": {},
   "outputs": [],
   "source": [
    "from keras.models import load_model\n",
    "import numpy as np\n",
    "import cv2"
   ]
  },
  {
   "cell_type": "code",
   "execution_count": 2,
   "id": "democratic-minister",
   "metadata": {},
   "outputs": [],
   "source": [
    "model=load_model('cnnmodel.h5')"
   ]
  },
  {
   "cell_type": "code",
   "execution_count": 3,
   "id": "hearing-length",
   "metadata": {},
   "outputs": [],
   "source": [
    "model.compile(optimizer='adam',loss='binary_crossentropy',metrics=['accuracy'])"
   ]
  },
  {
   "cell_type": "code",
   "execution_count": 14,
   "id": "continuous-mouse",
   "metadata": {},
   "outputs": [],
   "source": [
    "from skimage.transform import resize\n",
    "CATEGORIES = [\"Normal\",\"Pneumonia\"]\n",
    "def detect(frame):\n",
    "        img=resize(frame,(64,64))\n",
    "        img=np.expand_dims(img,axis=0)\n",
    "        if(np.max(img)>1):\n",
    "            img=img/255.0\n",
    "        prediction=model.predict(img)\n",
    "        prediction_class=model.predict_classes(img)\n",
    "        print(CATEGORIES[int(prediction_class[0][0])])"
   ]
  },
  {
   "cell_type": "code",
   "execution_count": 15,
   "id": "frank-outside",
   "metadata": {},
   "outputs": [
    {
     "name": "stdout",
     "output_type": "stream",
     "text": [
      "Normal\n"
     ]
    }
   ],
   "source": [
    "frame=cv2.imread(\"NORMAL2-IM-1427-0001.jpeg\")\n",
    "data=detect(frame)"
   ]
  },
  {
   "cell_type": "code",
   "execution_count": null,
   "id": "bottom-analysis",
   "metadata": {},
   "outputs": [],
   "source": []
  }
 ],
 "metadata": {
  "kernelspec": {
   "display_name": "Python 3",
   "language": "python",
   "name": "python3"
  },
  "language_info": {
   "codemirror_mode": {
    "name": "ipython",
    "version": 3
   },
   "file_extension": ".py",
   "mimetype": "text/x-python",
   "name": "python",
   "nbconvert_exporter": "python",
   "pygments_lexer": "ipython3",
   "version": "3.8.0"
  }
 },
 "nbformat": 4,
 "nbformat_minor": 5
}

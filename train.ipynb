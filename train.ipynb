{
 "cells": [
  {
   "cell_type": "code",
   "execution_count": 1,
   "id": "marked-scenario",
   "metadata": {},
   "outputs": [],
   "source": [
    "import keras\n",
    "from keras.preprocessing.image import ImageDataGenerator"
   ]
  },
  {
   "cell_type": "code",
   "execution_count": 2,
   "id": "given-treaty",
   "metadata": {},
   "outputs": [],
   "source": [
    "train_datagen=ImageDataGenerator(rescale=1./255.,shear_range=0.2,horizontal_flip=True,vertical_flip=True,rotation_range=0.2,zoom_range=0.2)\n",
    "\n",
    "test_datagen=ImageDataGenerator(rescale=1./255)"
   ]
  },
  {
   "cell_type": "code",
   "execution_count": 3,
   "id": "split-combining",
   "metadata": {},
   "outputs": [
    {
     "name": "stdout",
     "output_type": "stream",
     "text": [
      "Found 5216 images belonging to 2 classes.\n",
      "Found 16 images belonging to 2 classes.\n",
      "Found 624 images belonging to 2 classes.\n"
     ]
    }
   ],
   "source": [
    "training_set=train_datagen.flow_from_directory(r'F:\\Project\\train',target_size=(64,64),batch_size=8,class_mode='binary')\n",
    "\n",
    "val_set=train_datagen.flow_from_directory(r'F:\\Project\\val',target_size=(64, 64),batch_size=8,shuffle=True,class_mode='binary')\n",
    "\n",
    "test_set=test_datagen.flow_from_directory(r'F:\\Project\\test',target_size=(64,64),batch_size=8,class_mode='binary')"
   ]
  },
  {
   "cell_type": "code",
   "execution_count": 4,
   "id": "elementary-prediction",
   "metadata": {},
   "outputs": [],
   "source": [
    "import keras\n",
    "from keras.models import Sequential\n",
    "from keras.layers import Dense,Flatten\n",
    "from keras.layers import Conv2D, MaxPooling2D"
   ]
  },
  {
   "cell_type": "code",
   "execution_count": 5,
   "id": "victorian-crawford",
   "metadata": {},
   "outputs": [],
   "source": [
    "model=Sequential()\n",
    "model.add(Conv2D(32,kernel_size=(3,3),activation='relu',input_shape=(64,64,3)))\n",
    "model.add(MaxPooling2D(pool_size=(2,2)))\n",
    "model.add(Flatten())"
   ]
  },
  {
   "cell_type": "code",
   "execution_count": 6,
   "id": "naked-aviation",
   "metadata": {},
   "outputs": [],
   "source": [
    "from keras import regularizers\n",
    "model.add(Dense(128,activation='relu',kernel_regularizer=regularizers.l1_l2(l1=1e-5, l2=1e-4),bias_regularizer=regularizers.l2(1e-4),activity_regularizer=regularizers.l2(1e-5)))\n",
    "model.add(Dense(1,activation='sigmoid',kernel_regularizer=regularizers.l1_l2(l1=1e-5, l2=1e-4),bias_regularizer=regularizers.l2(1e-4),activity_regularizer=regularizers.l2(1e-5)))"
   ]
  },
  {
   "cell_type": "code",
   "execution_count": 7,
   "id": "impressed-navigation",
   "metadata": {},
   "outputs": [
    {
     "name": "stdout",
     "output_type": "stream",
     "text": [
      "Epoch 1/15\n",
      "326/326 [==============================] - 94s 284ms/step - loss: 0.6701 - accuracy: 0.7700 - val_loss: 0.6317 - val_accuracy: 0.7147\n",
      "Epoch 2/15\n",
      "326/326 [==============================] - 62s 191ms/step - loss: 0.3851 - accuracy: 0.8657 - val_loss: 0.4201 - val_accuracy: 0.8494\n",
      "Epoch 3/15\n",
      "326/326 [==============================] - 54s 166ms/step - loss: 0.3138 - accuracy: 0.8990 - val_loss: 0.3932 - val_accuracy: 0.8846\n",
      "Epoch 4/15\n",
      "326/326 [==============================] - 53s 161ms/step - loss: 0.3292 - accuracy: 0.8837 - val_loss: 0.6497 - val_accuracy: 0.7500\n",
      "Epoch 5/15\n",
      "326/326 [==============================] - 52s 158ms/step - loss: 0.3115 - accuracy: 0.9072 - val_loss: 0.8669 - val_accuracy: 0.7372\n",
      "Epoch 6/15\n",
      "326/326 [==============================] - 48s 147ms/step - loss: 0.3039 - accuracy: 0.9024 - val_loss: 0.4914 - val_accuracy: 0.8141\n",
      "Epoch 7/15\n",
      "326/326 [==============================] - 48s 147ms/step - loss: 0.2594 - accuracy: 0.9263 - val_loss: 0.4915 - val_accuracy: 0.8269\n",
      "Epoch 8/15\n",
      "326/326 [==============================] - 48s 146ms/step - loss: 0.2935 - accuracy: 0.9119 - val_loss: 0.4193 - val_accuracy: 0.8814\n",
      "Epoch 9/15\n",
      "326/326 [==============================] - 47s 144ms/step - loss: 0.2968 - accuracy: 0.9101 - val_loss: 0.3398 - val_accuracy: 0.9103\n",
      "Epoch 10/15\n",
      "326/326 [==============================] - 46s 142ms/step - loss: 0.2745 - accuracy: 0.9170 - val_loss: 0.3920 - val_accuracy: 0.8654\n",
      "Epoch 11/15\n",
      "326/326 [==============================] - 47s 144ms/step - loss: 0.2769 - accuracy: 0.9156 - val_loss: 0.5625 - val_accuracy: 0.8365\n",
      "Epoch 12/15\n",
      "326/326 [==============================] - 47s 145ms/step - loss: 0.2609 - accuracy: 0.9184 - val_loss: 0.4280 - val_accuracy: 0.8718\n",
      "Epoch 13/15\n",
      "326/326 [==============================] - 48s 146ms/step - loss: 0.2670 - accuracy: 0.9217 - val_loss: 0.3956 - val_accuracy: 0.8910\n",
      "Epoch 14/15\n",
      "326/326 [==============================] - 47s 144ms/step - loss: 0.2539 - accuracy: 0.9195 - val_loss: 0.5649 - val_accuracy: 0.8333\n",
      "Epoch 15/15\n",
      "326/326 [==============================] - 47s 143ms/step - loss: 0.2672 - accuracy: 0.9278 - val_loss: 0.3668 - val_accuracy: 0.8782\n"
     ]
    },
    {
     "data": {
      "text/plain": [
       "<tensorflow.python.keras.callbacks.History at 0x1a317e4d220>"
      ]
     },
     "execution_count": 7,
     "metadata": {},
     "output_type": "execute_result"
    }
   ],
   "source": [
    "model.compile(optimizer='adam',loss='binary_crossentropy',metrics=['accuracy'])\n",
    "model.fit(training_set,steps_per_epoch=5216//16,epochs=15,validation_data=test_set,validation_steps=624//16)"
   ]
  },
  {
   "cell_type": "code",
   "execution_count": 8,
   "id": "capable-certification",
   "metadata": {},
   "outputs": [],
   "source": [
    "model.save('cnnmodel.h5')"
   ]
  },
  {
   "cell_type": "code",
   "execution_count": 11,
   "id": "tracked-russian",
   "metadata": {},
   "outputs": [
    {
     "name": "stdout",
     "output_type": "stream",
     "text": [
      "652/652 [==============================] - 59s 91ms/step - loss: 0.2199 - accuracy: 0.9440\n",
      "\n",
      "accuracy: 94.40%\n"
     ]
    }
   ],
   "source": [
    "scores = model.evaluate(training_set)\n",
    "print(\"\\n%s: %.2f%%\" % (model.metrics_names[1], scores[1]*100))"
   ]
  },
  {
   "cell_type": "code",
   "execution_count": null,
   "id": "genuine-script",
   "metadata": {},
   "outputs": [],
   "source": []
  }
 ],
 "metadata": {
  "kernelspec": {
   "display_name": "Python 3",
   "language": "python",
   "name": "python3"
  },
  "language_info": {
   "codemirror_mode": {
    "name": "ipython",
    "version": 3
   },
   "file_extension": ".py",
   "mimetype": "text/x-python",
   "name": "python",
   "nbconvert_exporter": "python",
   "pygments_lexer": "ipython3",
   "version": "3.8.0"
  }
 },
 "nbformat": 4,
 "nbformat_minor": 5
}
